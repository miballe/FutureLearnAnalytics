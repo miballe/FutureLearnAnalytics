{
 "cells": [
  {
   "cell_type": "markdown",
   "metadata": {},
   "source": [
    "# Data Analytics for MOOC Providers\n",
    "\n",
    "#### Created by [Miguel Ballesteros](mailto:mabm1e15@soton.ac.uk)"
   ]
  },
  {
   "cell_type": "markdown",
   "metadata": {},
   "source": [
    "### *Notebook list*\n",
    "\n",
    "1. [Introduction](nb01_index.ipynb)\n",
    "2. [The Downloaded CSV Files](nb02_downloaded_data.ipynb)\n",
    "3. [Data Processing Pipeline](nb03_data_pipeline.ipynb)\n",
    "4. [Clean Data Exploration](nb04_clean_data_exploration.ipynb)\n",
    "5. [Understanding MOOC behaviors](nb05_understanding_mooc.ipynb)\n",
    "6. **[Predicting Dropouts](nb06_predicting_dropouts.ipynb)**\n",
    "7. [Conclusions](nb07_conclusions.ipynb)\n",
    "8. [Future Work](nb08_future_work.ipynb)"
   ]
  },
  {
   "cell_type": "markdown",
   "metadata": {},
   "source": [
    "### *In this notebook...*\n",
    "1. [Prediction Goal and Hypothesis](#Prediction-Goal-and-Hypothesis)\n",
    "2. [FutureLearn Classifications](#FutureLearn-Classifications)\n",
    "3. [Engineered Features](#Engineered-Features)\n",
    "4. [Survival Analysis Prediction](#Survival-Analysis-Prediction)\n",
    "5. [Results](#Results)\n",
    "6. [Conclusions](#Conclusions)\n",
    "7. [Business Feedback](#Business-Feedback)"
   ]
  },
  {
   "cell_type": "markdown",
   "metadata": {},
   "source": [
    "## Prediction Goal and Hypothesis\n",
    "\n",
    "text for prediction goal"
   ]
  },
  {
   "cell_type": "code",
   "execution_count": null,
   "metadata": {
    "collapsed": true
   },
   "outputs": [],
   "source": [
    "# Code for prediction goal"
   ]
  },
  {
   "cell_type": "markdown",
   "metadata": {},
   "source": [
    "## FutureLearn Classifications\n",
    "\n",
    "Text for FL classifications"
   ]
  },
  {
   "cell_type": "code",
   "execution_count": null,
   "metadata": {
    "collapsed": true
   },
   "outputs": [],
   "source": [
    "# Code for classifications"
   ]
  },
  {
   "cell_type": "markdown",
   "metadata": {},
   "source": [
    "## Engineered Features\n",
    "\n",
    "text for engineered features"
   ]
  },
  {
   "cell_type": "code",
   "execution_count": null,
   "metadata": {
    "collapsed": true
   },
   "outputs": [],
   "source": [
    "# code for engineered features"
   ]
  },
  {
   "cell_type": "markdown",
   "metadata": {},
   "source": [
    "## Survival Analysis Prediction\n",
    "\n",
    "Text for survival analysis prediction"
   ]
  },
  {
   "cell_type": "code",
   "execution_count": null,
   "metadata": {
    "collapsed": true
   },
   "outputs": [],
   "source": [
    "# code for survival analysis prediction"
   ]
  },
  {
   "cell_type": "markdown",
   "metadata": {},
   "source": [
    "## Results\n",
    "\n",
    "Text for results"
   ]
  },
  {
   "cell_type": "code",
   "execution_count": null,
   "metadata": {
    "collapsed": true
   },
   "outputs": [],
   "source": [
    "# code for results"
   ]
  },
  {
   "cell_type": "markdown",
   "metadata": {},
   "source": [
    "## Conclusions\n",
    "\n",
    "Text for conclusions"
   ]
  },
  {
   "cell_type": "code",
   "execution_count": null,
   "metadata": {
    "collapsed": true
   },
   "outputs": [],
   "source": [
    "# code for conclusions"
   ]
  },
  {
   "cell_type": "markdown",
   "metadata": {},
   "source": [
    "## Business Feedback\n",
    "\n",
    "Text for business feedback"
   ]
  },
  {
   "cell_type": "code",
   "execution_count": null,
   "metadata": {
    "collapsed": true
   },
   "outputs": [],
   "source": [
    "# Code for business feedback"
   ]
  }
 ],
 "metadata": {
  "kernelspec": {
   "display_name": "R",
   "language": "R",
   "name": "ir"
  },
  "language_info": {
   "codemirror_mode": "r",
   "file_extension": ".r",
   "mimetype": "text/x-r-source",
   "name": "R",
   "pygments_lexer": "r",
   "version": "3.2.5"
  }
 },
 "nbformat": 4,
 "nbformat_minor": 0
}
