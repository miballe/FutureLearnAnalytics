{
 "cells": [
  {
   "cell_type": "markdown",
   "metadata": {
    "collapsed": false,
    "nbpresent": {
     "id": "c2d8dc7c-c73a-49ac-8960-2596d8c390c7"
    },
    "scrolled": true
   },
   "source": [
    "# MOOC Analytics for FutureLearn"
   ]
  },
  {
   "cell_type": "code",
   "execution_count": null,
   "metadata": {
    "collapsed": true,
    "nbpresent": {
     "id": "13daf8b1-7d74-4a7e-8d68-af5d88ae9eee"
    }
   },
   "outputs": [],
   "source": [
    "load(\"./Data_Transformed/Data_Transformed.RData\", envir = .GlobalEnv )"
   ]
  },
  {
   "cell_type": "code",
   "execution_count": 5,
   "metadata": {
    "collapsed": false,
    "nbpresent": {
     "id": "31a7cac3-ec59-4814-b2fa-f5933874590c"
    }
   },
   "outputs": [
    {
     "data": {
      "text/html": [
       "<ol class=list-inline>\n",
       "\t<li>web-science-1</li>\n",
       "\t<li>web-science-2</li>\n",
       "\t<li>research-project-1</li>\n",
       "\t<li>research-project-2</li>\n",
       "\t<li>web-science-3</li>\n",
       "\t<li>understanding-language-1</li>\n",
       "\t<li>understanding-language-2</li>\n",
       "\t<li>research-project-3</li>\n",
       "\t<li>research-project-4</li>\n",
       "\t<li>understanding-language-3</li>\n",
       "\t<li>web-science-4</li>\n",
       "\t<li>research-project-5</li>\n",
       "\t<li>understanding-language-4</li>\n",
       "\t<li>web-science-5</li>\n",
       "</ol>\n"
      ],
      "text/latex": [
       "\\begin{enumerate*}\n",
       "\\item web-science-1\n",
       "\\item web-science-2\n",
       "\\item research-project-1\n",
       "\\item research-project-2\n",
       "\\item web-science-3\n",
       "\\item understanding-language-1\n",
       "\\item understanding-language-2\n",
       "\\item research-project-3\n",
       "\\item research-project-4\n",
       "\\item understanding-language-3\n",
       "\\item web-science-4\n",
       "\\item research-project-5\n",
       "\\item understanding-language-4\n",
       "\\item web-science-5\n",
       "\\end{enumerate*}\n"
      ],
      "text/markdown": [
       "1. web-science-1\n",
       "2. web-science-2\n",
       "3. research-project-1\n",
       "4. research-project-2\n",
       "5. web-science-3\n",
       "6. understanding-language-1\n",
       "7. understanding-language-2\n",
       "8. research-project-3\n",
       "9. research-project-4\n",
       "10. understanding-language-3\n",
       "11. web-science-4\n",
       "12. research-project-5\n",
       "13. understanding-language-4\n",
       "14. web-science-5\n",
       "\n",
       "\n"
      ],
      "text/plain": [
       " [1] web-science-1            web-science-2            research-project-1      \n",
       " [4] research-project-2       web-science-3            understanding-language-1\n",
       " [7] understanding-language-2 research-project-3       research-project-4      \n",
       "[10] understanding-language-3 web-science-4            research-project-5      \n",
       "[13] understanding-language-4 web-science-5           \n",
       "14 Levels: research-project-1 research-project-2 ... web-science-5"
      ]
     },
     "metadata": {},
     "output_type": "display_data"
    }
   ],
   "source": [
    "unique(df_comments$short_code)"
   ]
  },
  {
   "cell_type": "code",
   "execution_count": 8,
   "metadata": {
    "collapsed": false,
    "nbpresent": {
     "id": "a5064e8d-04ad-409d-bfb0-7fdc745df3f1"
    }
   },
   "outputs": [
    {
     "name": "stdout",
     "output_type": "stream",
     "text": [
      "[1] 11\n"
     ]
    }
   ],
   "source": [
    "a <- 11\n",
    "print(a)"
   ]
  },
  {
   "cell_type": "raw",
   "metadata": {
    "raw_mimetype": "text/latex"
   },
   "source": [
    "\\begin{align}\n",
    "\\dot{x} & = \\sigma(y-x) \\\\\n",
    "\\dot{y} & = \\rho x - y - xz \\\\\n",
    "\\dot{z} & = -\\beta z + xy\n",
    "\\end{align}"
   ]
  },
  {
   "cell_type": "code",
   "execution_count": null,
   "metadata": {
    "collapsed": true
   },
   "outputs": [],
   "source": []
  }
 ],
 "metadata": {
  "celltoolbar": "Raw Cell Format",
  "kernelspec": {
   "display_name": "R",
   "language": "R",
   "name": "ir"
  },
  "language_info": {
   "codemirror_mode": "r",
   "file_extension": ".r",
   "mimetype": "text/x-r-source",
   "name": "R",
   "pygments_lexer": "r",
   "version": "3.2.5"
  },
  "nbpresent": {
   "slides": {},
   "themes": {}
  }
 },
 "nbformat": 4,
 "nbformat_minor": 0
}
