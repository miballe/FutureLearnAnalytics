{
 "cells": [
  {
   "cell_type": "markdown",
   "metadata": {},
   "source": [
    "# Data Analytics for MOOC Providers\n",
    "\n",
    "#### Created by [Miguel Ballesteros](mailto:mabm1e15@soton.ac.uk)"
   ]
  },
  {
   "cell_type": "markdown",
   "metadata": {},
   "source": [
    "### *Notebook list*\n",
    "\n",
    "1. [Introduction](index.ipynb)\n",
    "2. [The Downloaded CSV Files](downloaded_data.ipynb)\n",
    "3. **[Data Processing Pipeline](data_pipeline.ipynb)**\n",
    "4. [Clean Data Exploration](clean_data_exploration.ipynb)\n",
    "5. [Understanding MOOC behaviors](understanding_mooc.ipynb)\n",
    "6. [Predicting Dropouts](predicting_dropouts)\n",
    "7. [Conclusions](conclusions.ipynb)\n",
    "8. [Future Work](future_work.ipynb)"
   ]
  },
  {
   "cell_type": "markdown",
   "metadata": {},
   "source": [
    "### *In this notebook...*\n",
    "1. [The Data Pipeline](#The-Data-Pipeline)\n",
    "2. [Manually Created CSV Files](#Manually-Created-CSV-Files)\n",
    "3. [Run and Monitor](#Run-and-Monitor)"
   ]
  },
  {
   "cell_type": "markdown",
   "metadata": {},
   "source": [
    "## The Data Pipeline\n",
    "The logical sequence of processing data have become in a very similar sequence of steps deduced by many authors and companies. Although the sequence is very similar, there is an emphasis or a break-down in some steps depending on the pursued goal. The generic steps followed in this project are described in the following image.\n",
    "\n",
    "#### *General Data Pipeline*\n",
    "<img src=\"Images/general_pipeline.png\">\n",
    "\n",
    "For the present project the data is given by FutureLearn who collect it while the Website is used and then combine the different logs to produce the final CSV files complaint with the Data Privacy Act. This means that the *Collect* step is not applied. The *Communicate* stepis not part of the project since the deliverables include only methodological documentation with no formal business report. However, where applicable some recommendations are given with the aim to improve the data collection step and increase the data potential for future course runs. The following image shows the steps within this project.\n",
    "\n",
    "#### *FutureLearn Data Pipeline*\n",
    "<img src=\"Images/fl_pipeline.png\">\n"
   ]
  },
  {
   "cell_type": "markdown",
   "metadata": {},
   "source": [
    "## Pipeline Execution\n",
    "The implementation of the data pipeline in R consists basically of a main file that perform the calls to the necessary methods according to the steps to execute, and a separate file for each step related operations. In addition to those, there is a *00_config.r* file that contain name-value pairs for the configuration settings as well as the log initialization.\n",
    "\n",
    "#### *Execution Sequence*\n",
    "<img src=\"Images/execution_sequence.png\">\n",
    "\n"
   ]
  },
  {
   "cell_type": "markdown",
   "metadata": {},
   "source": [
    "## Run and Monitor"
   ]
  },
  {
   "cell_type": "markdown",
   "metadata": {},
   "source": [
    "As described before, the pipeline to obtain the transformed dataset with a baseline data for models, can be executed by selecting the desired stages (TRUE/FALSE) in the config file and then sourcing the file *00_main.r*. **Please, ensure the config file has the right values for each execution step before running the following cell, as well as ensure the package *log4r* is installed in this machine.**. Within the execution details a log is shown when each step is applied, along with the elapsed time for each operation."
   ]
  },
  {
   "cell_type": "code",
   "execution_count": null,
   "metadata": {
    "collapsed": true
   },
   "outputs": [],
   "source": [
    "source(\"00_main.r\")"
   ]
  }
 ],
 "metadata": {
  "kernelspec": {
   "display_name": "R",
   "language": "R",
   "name": "ir"
  },
  "language_info": {
   "codemirror_mode": "r",
   "file_extension": ".r",
   "mimetype": "text/x-r-source",
   "name": "R",
   "pygments_lexer": "r",
   "version": "3.2.5"
  }
 },
 "nbformat": 4,
 "nbformat_minor": 0
}
