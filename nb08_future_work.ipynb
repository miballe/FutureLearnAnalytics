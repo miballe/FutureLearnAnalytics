{
 "cells": [
  {
   "cell_type": "markdown",
   "metadata": {},
   "source": [
    "# Data Analytics for MOOC Providers\n",
    "\n",
    "#### Created by [Miguel Ballesteros](mailto:mabm1e15@soton.ac.uk)"
   ]
  },
  {
   "cell_type": "markdown",
   "metadata": {},
   "source": [
    "### *Notebook list*\n",
    "\n",
    "1. [Introduction](nb01_index.ipynb)\n",
    "2. [The Downloaded CSV Files](nb02_downloaded_data.ipynb)\n",
    "3. [Data Processing Pipeline](nb03_data_pipeline.ipynb)\n",
    "4. [Clean Data Exploration](nb04_clean_data_exploration.ipynb)\n",
    "5. [Understanding MOOC behaviors](nb05_understanding_mooc.ipynb)\n",
    "6. [Predicting Dropouts](nb06_predicting_dropouts.ipynb)\n",
    "7. [Conclusions](nb07_conclusions.ipynb)\n",
    "8. **[Future Work](nb08_future_work.ipynb)**"
   ]
  },
  {
   "cell_type": "markdown",
   "metadata": {},
   "source": [
    "### *In this notebook...*\n",
    "1. [Future Work](#Future-Work)"
   ]
  },
  {
   "cell_type": "markdown",
   "metadata": {},
   "source": [
    "## Future Work\n",
    "\n",
    "**Analytics functions**\n",
    "* Add new models or improve the existing ones\n",
    "* Allow incremental updates for daily deltas\n",
    "* Associate or create a visualization tool\n",
    "\n",
    "**Software Development**\n",
    "* R Package\n",
    "* Support different storage types\n",
    "* Increase scalability by supporting multi-processing frameworks\n"
   ]
  },
  {
   "cell_type": "code",
   "execution_count": null,
   "metadata": {
    "collapsed": true
   },
   "outputs": [],
   "source": []
  }
 ],
 "metadata": {
  "anaconda-cloud": {},
  "kernelspec": {
   "display_name": "R",
   "language": "R",
   "name": "ir"
  },
  "language_info": {
   "codemirror_mode": "r",
   "file_extension": ".r",
   "mimetype": "text/x-r-source",
   "name": "R",
   "pygments_lexer": "r",
   "version": "3.2.5"
  }
 },
 "nbformat": 4,
 "nbformat_minor": 0
}
