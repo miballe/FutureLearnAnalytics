{
 "cells": [
  {
   "cell_type": "markdown",
   "metadata": {},
   "source": [
    "# Data Analytics for MOOC Providers\n",
    "\n",
    "#### Created by [Miguel Ballesteros](mailto:mabm1e15@soton.ac.uk)"
   ]
  },
  {
   "cell_type": "markdown",
   "metadata": {},
   "source": [
    "### *Notebook list*\n",
    "1. [Introduction](index.ipynb)\n",
    "2. [The Downloaded CSV Files](downloaded_data.ipynb)\n",
    "3. [Data Processing Pipeline](data_pipeline.ipynb)\n",
    "4. **[Clean Data Exploration](clean_data_exploration.ipynb)**\n",
    "5. [Understanding MOOC behaviors](understanding_mooc.ipynb)\n",
    "6. [Predicting Dropouts](predicting_dropouts)\n",
    "7. [Conclusions](conclusions.ipynb)\n",
    "8. [Future Work](future_work.ipynb)"
   ]
  },
  {
   "cell_type": "markdown",
   "metadata": {},
   "source": [
    "### *In this notebook...*\n",
    "1. [Exploration Goal](#Exploration-Goal)\n",
    "2. [Data Load](#Data-Load)\n",
    "3. [Course Data Frames](#Course-Data-Frames)\n",
    "4. [Enrolments Data Frame](#Enrolments-Data-Frame)\n",
    "5. [Step Activity Data Frame](#Step-Activity-Data-Frame)"
   ]
  },
  {
   "cell_type": "markdown",
   "metadata": {},
   "source": [
    "## Exploration Goal\n",
    "\n",
    "Within this notebook the cleaned data is explored with the aim to determine the possible transformations to use in later models. The cleaned data is basically the raw data after removing invalid entries and converting all columns to the right data types.\n",
    "\n",
    "The task starts by loading the cleaned data from the RData file saved in the folder Data_Clean using the same methods defined for the pipeline processing. Then the data frames are listed. When using the default values, those are identified with the prefix \"df_\"."
   ]
  },
  {
   "cell_type": "markdown",
   "metadata": {},
   "source": [
    "## Data Load"
   ]
  },
  {
   "cell_type": "code",
   "execution_count": 30,
   "metadata": {
    "collapsed": false
   },
   "outputs": [
    {
     "name": "stdout",
     "output_type": "stream",
     "text": [
      "[1] \"INFO - START - load_clean_data_file\"\n",
      "[1] \"INFO - END - load_clean_data_file - Elapsed: 3.91999999999825 s\"\n"
     ]
    },
    {
     "data": {
      "text/html": [
       "<table>\n",
       "<thead><tr><th scope=col>short_code</th><th scope=col>df_course_list</th><th scope=col>df_course_details</th><th scope=col>df_enrolments</th><th scope=col>df_step_activity</th><th scope=col>df_comments</th><th scope=col>df_pr_assignments</th><th scope=col>df_pr_reviews</th><th scope=col>df_question_response</th></tr></thead>\n",
       "<tbody>\n",
       "\t<tr><td>research-project-1      </td><td>1                       </td><td> 80                     </td><td> 8642                   </td><td>127967                  </td><td> 14454                  </td><td>1105                    </td><td>1808                    </td><td> 17222                  </td></tr>\n",
       "\t<tr><td>research-project-2      </td><td>1                       </td><td> 80                     </td><td> 9844                   </td><td>119787                  </td><td> 12661                  </td><td>1063                    </td><td>1573                    </td><td> 12807                  </td></tr>\n",
       "\t<tr><td>research-project-3      </td><td>1                       </td><td> 80                     </td><td>13232                   </td><td>144700                  </td><td> 14581                  </td><td>1235                    </td><td>1752                    </td><td> 20692                  </td></tr>\n",
       "\t<tr><td>research-project-4      </td><td>1                       </td><td> 80                     </td><td>10361                   </td><td>156399                  </td><td> 13074                  </td><td>1467                    </td><td>1839                    </td><td> 26014                  </td></tr>\n",
       "\t<tr><td>research-project-5      </td><td>1                       </td><td> 80                     </td><td> 6569                   </td><td> 69393                  </td><td>  8111                  </td><td> 554                    </td><td> 824                    </td><td>  9214                  </td></tr>\n",
       "\t<tr><td>understanding-language-1</td><td>1                       </td><td> 64                     </td><td>58788                   </td><td>468309                  </td><td>145425                  </td><td>   0                    </td><td>   0                    </td><td>     0                  </td></tr>\n",
       "\t<tr><td>understanding-language-2</td><td>1                       </td><td> 66                     </td><td>41916                   </td><td>318232                  </td><td> 86139                  </td><td>   0                    </td><td>   0                    </td><td>     0                  </td></tr>\n",
       "\t<tr><td>understanding-language-3</td><td>1                       </td><td> 66                     </td><td>44287                   </td><td>229217                  </td><td> 58285                  </td><td>   0                    </td><td>   0                    </td><td>     0                  </td></tr>\n",
       "\t<tr><td>understanding-language-4</td><td>1                       </td><td> 66                     </td><td>25596                   </td><td>197929                  </td><td> 50332                  </td><td>   0                    </td><td>   0                    </td><td>     0                  </td></tr>\n",
       "\t<tr><td>web-science-1           </td><td>1                       </td><td>124                     </td><td>13674                   </td><td>231958                  </td><td> 18414                  </td><td>   0                    </td><td>   0                    </td><td>104588                  </td></tr>\n",
       "\t<tr><td>web-science-2           </td><td>1                       </td><td>123                     </td><td> 4755                   </td><td> 87189                  </td><td>  6294                  </td><td> 183                    </td><td> 294                    </td><td> 31589                  </td></tr>\n",
       "\t<tr><td>web-science-3           </td><td>1                       </td><td>125                     </td><td> 9249                   </td><td>109910                  </td><td> 10965                  </td><td> 168                    </td><td> 250                    </td><td> 44615                  </td></tr>\n",
       "\t<tr><td>web-science-4           </td><td>1                       </td><td> 34                     </td><td> 8105                   </td><td> 41944                  </td><td>  6413                  </td><td> 341                    </td><td> 532                    </td><td>     0                  </td></tr>\n",
       "\t<tr><td>web-science-5           </td><td>1                       </td><td> 34                     </td><td> 4810                   </td><td> 22520                  </td><td>  4056                  </td><td> 215                    </td><td> 341                    </td><td>     0                  </td></tr>\n",
       "</tbody>\n",
       "</table>\n"
      ],
      "text/latex": [
       "\\begin{tabular}{r|lllllllll}\n",
       " short\\_code & df\\_course\\_list & df\\_course\\_details & df\\_enrolments & df\\_step\\_activity & df\\_comments & df\\_pr\\_assignments & df\\_pr\\_reviews & df\\_question\\_response\\\\\n",
       "\\hline\n",
       "\t research-project-1       & 1                        &  80                      &  8642                    & 127967                   &  14454                   & 1105                     & 1808                     &  17222                  \\\\\n",
       "\t research-project-2       & 1                        &  80                      &  9844                    & 119787                   &  12661                   & 1063                     & 1573                     &  12807                  \\\\\n",
       "\t research-project-3       & 1                        &  80                      & 13232                    & 144700                   &  14581                   & 1235                     & 1752                     &  20692                  \\\\\n",
       "\t research-project-4       & 1                        &  80                      & 10361                    & 156399                   &  13074                   & 1467                     & 1839                     &  26014                  \\\\\n",
       "\t research-project-5       & 1                        &  80                      &  6569                    &  69393                   &   8111                   &  554                     &  824                     &   9214                  \\\\\n",
       "\t understanding-language-1 & 1                        &  64                      & 58788                    & 468309                   & 145425                   &    0                     &    0                     &      0                  \\\\\n",
       "\t understanding-language-2 & 1                        &  66                      & 41916                    & 318232                   &  86139                   &    0                     &    0                     &      0                  \\\\\n",
       "\t understanding-language-3 & 1                        &  66                      & 44287                    & 229217                   &  58285                   &    0                     &    0                     &      0                  \\\\\n",
       "\t understanding-language-4 & 1                        &  66                      & 25596                    & 197929                   &  50332                   &    0                     &    0                     &      0                  \\\\\n",
       "\t web-science-1            & 1                        & 124                      & 13674                    & 231958                   &  18414                   &    0                     &    0                     & 104588                  \\\\\n",
       "\t web-science-2            & 1                        & 123                      &  4755                    &  87189                   &   6294                   &  183                     &  294                     &  31589                  \\\\\n",
       "\t web-science-3            & 1                        & 125                      &  9249                    & 109910                   &  10965                   &  168                     &  250                     &  44615                  \\\\\n",
       "\t web-science-4            & 1                        &  34                      &  8105                    &  41944                   &   6413                   &  341                     &  532                     &      0                  \\\\\n",
       "\t web-science-5            & 1                        &  34                      &  4810                    &  22520                   &   4056                   &  215                     &  341                     &      0                  \\\\\n",
       "\\end{tabular}\n"
      ],
      "text/plain": [
       "   short_code               df_course_list df_course_details df_enrolments\n",
       "1  research-project-1       1               80                8642        \n",
       "2  research-project-2       1               80                9844        \n",
       "3  research-project-3       1               80               13232        \n",
       "4  research-project-4       1               80               10361        \n",
       "5  research-project-5       1               80                6569        \n",
       "6  understanding-language-1 1               64               58788        \n",
       "7  understanding-language-2 1               66               41916        \n",
       "8  understanding-language-3 1               66               44287        \n",
       "9  understanding-language-4 1               66               25596        \n",
       "10 web-science-1            1              124               13674        \n",
       "11 web-science-2            1              123                4755        \n",
       "12 web-science-3            1              125                9249        \n",
       "13 web-science-4            1               34                8105        \n",
       "14 web-science-5            1               34                4810        \n",
       "   df_step_activity df_comments df_pr_assignments df_pr_reviews\n",
       "1  127967            14454      1105              1808         \n",
       "2  119787            12661      1063              1573         \n",
       "3  144700            14581      1235              1752         \n",
       "4  156399            13074      1467              1839         \n",
       "5   69393             8111       554               824         \n",
       "6  468309           145425         0                 0         \n",
       "7  318232            86139         0                 0         \n",
       "8  229217            58285         0                 0         \n",
       "9  197929            50332         0                 0         \n",
       "10 231958            18414         0                 0         \n",
       "11  87189             6294       183               294         \n",
       "12 109910            10965       168               250         \n",
       "13  41944             6413       341               532         \n",
       "14  22520             4056       215               341         \n",
       "   df_question_response\n",
       "1   17222              \n",
       "2   12807              \n",
       "3   20692              \n",
       "4   26014              \n",
       "5    9214              \n",
       "6       0              \n",
       "7       0              \n",
       "8       0              \n",
       "9       0              \n",
       "10 104588              \n",
       "11  31589              \n",
       "12  44615              \n",
       "13      0              \n",
       "14      0              "
      ]
     },
     "metadata": {},
     "output_type": "display_data"
    }
   ],
   "source": [
    "source(\"00_config.r\")              # R file with global configuration values\n",
    "source(\"02_clean.r\")               # R file with clean-related functions\n",
    "load_clean_data_file(DATA_CLEAN)   # Function defined in the clean functions. Loads the preprocessed clean data.\n",
    "summary_clean_data()               # Table summarizing the number of records per data frame, grouped by the short course name"
   ]
  },
  {
   "cell_type": "markdown",
   "metadata": {},
   "source": [
    "In the previous table a list of all loaded courses and number of records for each data source is displayed. Please keep in mind the notation of the short_code field, since it is the unique name used to link all data sources, and the main parameter for many operations.\n",
    "\n",
    "* **df_course_XXXX:** These data frames were custom built and those are not expected to contain issues. However, basic verifications are done to ensure the data is consistent and ready for transformation.\n",
    "* **df_enrolments:** This is the most important source of participant's data. It has just a little of demographic details, so it's important to verify exactly how reliable or relevant is such data. The role field is important to remove those participants performing only administrative actions. The enrolled_at field may be helpful as a predictor factor for the dropout analysis, transformed as X hours or days before/after the course start date.\n",
    "* **df_step_activity:** This data frame contains the most important participant-course interaction information. However, it is given only as a set of two dates: *first_visited_at* and *last_completed_at*. All other fields are used for classification within the course-week-step and link to the enrolment data. For this reason, at this point during the data cleaning the duration (difference between the two dates) was calculated with the aim to find patterns and understand navigation behaviors in the course.\n",
    "* **df_pr_XXX:** These data frames are relevant only for some courses, and with just few entries compared to the total number of participants. However due to the high amount of text  it may be useful to apply NLP analytics and calculate some indices that later may be helpful for the dropout prediction (as performed in a previous study). Apparently just the participation in the assessment seem to suggest something about the level of engagement.\n",
    "* **df_question_response:** contains all question-response attempts either those are correct or incorrect. This data may be useful to calculate an index for the number of retries, that at the same time may help measuring the level of engagement and therefore, useful for the dropout prediction.\n"
   ]
  },
  {
   "cell_type": "markdown",
   "metadata": {},
   "source": [
    "## Course Data Frames\n",
    "Even if this data is expected to be OK, the number of weeks are calculated for the total course range as well as each week-step from the course details. This basic calculation was performed during the clean step mainly for verification proposes.\n",
    "\n",
    "* Please check that the total_weeks value in the course_list table is the expected one. Otherwise, verify that the times are correct and also verify if there's a summer time change that may affect the calculation. This is a known issue which requires to add 1 hour to the end_date of the week the change takes place.\n",
    "\n",
    "- TODO: Show the calculated number of days for course_details records, or show exceptions not matching 7.\n"
   ]
  },
  {
   "cell_type": "code",
   "execution_count": 2,
   "metadata": {
    "collapsed": false
   },
   "outputs": [
    {
     "data": {
      "text/html": [
       "<table>\n",
       "<thead><tr><th scope=col>short_code</th><th scope=col>start_date</th><th scope=col>end_date</th><th scope=col>total_weeks</th></tr></thead>\n",
       "<tbody>\n",
       "\t<tr><td>research-project-1      </td><td>2014-07-07              </td><td>2014-09-01 00:00:00     </td><td>8                       </td></tr>\n",
       "\t<tr><td>research-project-2      </td><td>2014-09-15              </td><td>2014-11-10 00:00:00     </td><td>8                       </td></tr>\n",
       "\t<tr><td>research-project-3      </td><td>2015-06-22              </td><td>2015-08-17 00:00:00     </td><td>8                       </td></tr>\n",
       "\t<tr><td>research-project-4      </td><td>2015-09-14              </td><td>2015-11-09 00:00:00     </td><td>8                       </td></tr>\n",
       "\t<tr><td>research-project-5      </td><td>2016-03-07              </td><td>2016-05-02 01:00:00     </td><td>8                       </td></tr>\n",
       "\t<tr><td>web-science-1           </td><td>2013-11-11              </td><td>2013-12-23 00:00:00     </td><td>6                       </td></tr>\n",
       "\t<tr><td>web-science-2           </td><td>2014-02-10              </td><td>2014-03-24 00:00:00     </td><td>6                       </td></tr>\n",
       "\t<tr><td>web-science-3           </td><td>2014-10-06              </td><td>2014-11-17 00:00:00     </td><td>6                       </td></tr>\n",
       "\t<tr><td>web-science-4           </td><td>2015-11-30              </td><td>2015-12-14 00:00:00     </td><td>2                       </td></tr>\n",
       "\t<tr><td>web-science-5           </td><td>2016-06-27              </td><td>2016-07-11 00:00:00     </td><td>2                       </td></tr>\n",
       "\t<tr><td>understanding-language-1</td><td>2014-11-17              </td><td>2014-12-15 00:00:00     </td><td>4                       </td></tr>\n",
       "\t<tr><td>understanding-language-2</td><td>2015-04-20              </td><td>2015-05-18 00:00:00     </td><td>4                       </td></tr>\n",
       "\t<tr><td>understanding-language-3</td><td>2015-10-19              </td><td>2015-11-16 00:00:00     </td><td>4                       </td></tr>\n",
       "\t<tr><td>understanding-language-4</td><td>2016-04-04              </td><td>2016-05-02 00:00:00     </td><td>4                       </td></tr>\n",
       "</tbody>\n",
       "</table>\n"
      ],
      "text/latex": [
       "\\begin{tabular}{r|llll}\n",
       " short\\_code & start\\_date & end\\_date & total\\_weeks\\\\\n",
       "\\hline\n",
       "\t research-project-1       & 2014-07-07               & 2014-09-01 00:00:00      & 8                       \\\\\n",
       "\t research-project-2       & 2014-09-15               & 2014-11-10 00:00:00      & 8                       \\\\\n",
       "\t research-project-3       & 2015-06-22               & 2015-08-17 00:00:00      & 8                       \\\\\n",
       "\t research-project-4       & 2015-09-14               & 2015-11-09 00:00:00      & 8                       \\\\\n",
       "\t research-project-5       & 2016-03-07               & 2016-05-02 01:00:00      & 8                       \\\\\n",
       "\t web-science-1            & 2013-11-11               & 2013-12-23 00:00:00      & 6                       \\\\\n",
       "\t web-science-2            & 2014-02-10               & 2014-03-24 00:00:00      & 6                       \\\\\n",
       "\t web-science-3            & 2014-10-06               & 2014-11-17 00:00:00      & 6                       \\\\\n",
       "\t web-science-4            & 2015-11-30               & 2015-12-14 00:00:00      & 2                       \\\\\n",
       "\t web-science-5            & 2016-06-27               & 2016-07-11 00:00:00      & 2                       \\\\\n",
       "\t understanding-language-1 & 2014-11-17               & 2014-12-15 00:00:00      & 4                       \\\\\n",
       "\t understanding-language-2 & 2015-04-20               & 2015-05-18 00:00:00      & 4                       \\\\\n",
       "\t understanding-language-3 & 2015-10-19               & 2015-11-16 00:00:00      & 4                       \\\\\n",
       "\t understanding-language-4 & 2016-04-04               & 2016-05-02 00:00:00      & 4                       \\\\\n",
       "\\end{tabular}\n"
      ],
      "text/plain": [
       "   short_code               start_date end_date            total_weeks\n",
       "1  research-project-1       2014-07-07 2014-09-01 00:00:00 8          \n",
       "2  research-project-2       2014-09-15 2014-11-10 00:00:00 8          \n",
       "3  research-project-3       2015-06-22 2015-08-17 00:00:00 8          \n",
       "4  research-project-4       2015-09-14 2015-11-09 00:00:00 8          \n",
       "5  research-project-5       2016-03-07 2016-05-02 01:00:00 8          \n",
       "6  web-science-1            2013-11-11 2013-12-23 00:00:00 6          \n",
       "7  web-science-2            2014-02-10 2014-03-24 00:00:00 6          \n",
       "8  web-science-3            2014-10-06 2014-11-17 00:00:00 6          \n",
       "9  web-science-4            2015-11-30 2015-12-14 00:00:00 2          \n",
       "10 web-science-5            2016-06-27 2016-07-11 00:00:00 2          \n",
       "11 understanding-language-1 2014-11-17 2014-12-15 00:00:00 4          \n",
       "12 understanding-language-2 2015-04-20 2015-05-18 00:00:00 4          \n",
       "13 understanding-language-3 2015-10-19 2015-11-16 00:00:00 4          \n",
       "14 understanding-language-4 2016-04-04 2016-05-02 00:00:00 4          "
      ]
     },
     "metadata": {},
     "output_type": "display_data"
    }
   ],
   "source": [
    "df_course_list[,c(\"short_code\", \"start_date\", \"end_date\", \"total_weeks\")]"
   ]
  },
  {
   "cell_type": "markdown",
   "metadata": {},
   "source": [
    "## Enrolments Data Frame\n",
    "As per the existing fields, it seems that the role may have some impact since admin users are expected to be enroled on all or most courses. At the same time it would be interesting to check the proportion of roles among all courses.\n",
    "\n",
    "The enrolments table contains several demographic fileds, but most of them seem to be empty. Getting a clear picture of the amount of existing demographic data will clarify if it can be used later for pattern recognition or as part of the predictors set. \n",
    "\n",
    "#### *Proportion of roles among all courses*"
   ]
  },
  {
   "cell_type": "code",
   "execution_count": 24,
   "metadata": {
    "collapsed": false
   },
   "outputs": [
    {
     "data": {
      "text/plain": [
       "                          role\n",
       "short_code                 admin learner marketer moderator organisation_admin\n",
       "  research-project-1          17    8580        0         0                 45\n",
       "  research-project-2           7    9804        0         0                 33\n",
       "  research-project-3           6   13195        0         0                 31\n",
       "  research-project-4          15   10326        1         0                 19\n",
       "  research-project-5           3    6552        0         0                 14\n",
       "  understanding-language-1    22   58719        0         0                 47\n",
       "  understanding-language-2    14   41872        0         0                 30\n",
       "  understanding-language-3    13   44245        0         0                 29\n",
       "  understanding-language-4     9   25566        0         1                 20\n",
       "  web-science-1               20   13572        1         0                 81\n",
       "  web-science-2               14    4713        0         0                 28\n",
       "  web-science-3               16    9208        0         0                 25\n",
       "  web-science-4               14    8074        0         0                 17\n",
       "  web-science-5                9    4786        0         0                 15"
      ]
     },
     "metadata": {},
     "output_type": "display_data"
    }
   ],
   "source": [
    "xtabs(~ short_code + role, df_enrolments)"
   ]
  },
  {
   "cell_type": "markdown",
   "metadata": {},
   "source": [
    "The roles different than \"learner\" don't seem to be different and may have uncommon behaviors compared to the learners that may distort the results. Therefore, enrolments and all other data frames will be filtered to contain only data for \"learners\".\n",
    "\n",
    "#### *Number of participants grouped by the number of courses taken from the analyzed set, and having the role \"Learner\"*"
   ]
  },
  {
   "cell_type": "code",
   "execution_count": 25,
   "metadata": {
    "collapsed": false
   },
   "outputs": [
    {
     "data": {
      "text/plain": [
       "\n",
       "     1      2      3      4      5      6      7      8      9     10     11 \n",
       "214565  16227   2666    630    174     68     28     13      6      2      1 \n",
       "    12 \n",
       "     1 "
      ]
     },
     "metadata": {},
     "output_type": "display_data"
    }
   ],
   "source": [
    "get_courses_count_participants()"
   ]
  },
  {
   "cell_type": "markdown",
   "metadata": {},
   "source": [
    "As expected, most participants have taken only one course. The maximum number of different courses is 3, therefore from 4 and on, participants have taken different runs of the same course.\n",
    "\n",
    "#### *Demographic data*"
   ]
  },
  {
   "cell_type": "code",
   "execution_count": 31,
   "metadata": {
    "collapsed": false
   },
   "outputs": [
    {
     "data": {
      "text/html": [
       "<table>\n",
       "<thead><tr><th scope=col>short_code</th><th scope=col>gender</th><th scope=col>country</th><th scope=col>age_range</th><th scope=col>highest_education_level</th><th scope=col>employment_status</th><th scope=col>employment_area</th></tr></thead>\n",
       "<tbody>\n",
       "\t<tr><td>research-project-1      </td><td>0.9771562               </td><td>0.9769231               </td><td>0.9773893               </td><td>0.9769231               </td><td>0.9769231               </td><td>0.9796037               </td></tr>\n",
       "\t<tr><td>research-project-2      </td><td>0.9802122               </td><td>0.9799062               </td><td>0.9803142               </td><td>0.9799062               </td><td>0.9802122               </td><td>0.9827621               </td></tr>\n",
       "\t<tr><td>research-project-3      </td><td>0.9705949               </td><td>0.9706707               </td><td>0.9713528               </td><td>0.9706707               </td><td>0.9708223               </td><td>0.9749147               </td></tr>\n",
       "\t<tr><td>research-project-4      </td><td>0.9734650               </td><td>0.9740461               </td><td>0.9742398               </td><td>0.9736587               </td><td>0.9736587               </td><td>0.9768545               </td></tr>\n",
       "\t<tr><td>research-project-5      </td><td>0.8951465               </td><td>0.8954518               </td><td>0.8966728               </td><td>0.8948413               </td><td>0.8959096               </td><td>0.9137668               </td></tr>\n",
       "\t<tr><td>understanding-language-1</td><td>0.9790017               </td><td>0.9788995               </td><td>0.9792060               </td><td>0.9790017               </td><td>0.9789847               </td><td>0.9811475               </td></tr>\n",
       "\t<tr><td>understanding-language-2</td><td>0.9745892               </td><td>0.9747803               </td><td>0.9750191               </td><td>0.9746848               </td><td>0.9747803               </td><td>0.9772163               </td></tr>\n",
       "\t<tr><td>understanding-language-3</td><td>0.9703469               </td><td>0.9702113               </td><td>0.9706634               </td><td>0.9701661               </td><td>0.9704599               </td><td>0.9726297               </td></tr>\n",
       "\t<tr><td>understanding-language-4</td><td>0.8694751               </td><td>0.8697098               </td><td>0.8716655               </td><td>0.8701009               </td><td>0.8704529               </td><td>0.8839865               </td></tr>\n",
       "\t<tr><td>web-science-1           </td><td>0.9750221               </td><td>0.9750221               </td><td>0.9757589               </td><td>0.9748747               </td><td>0.9748747               </td><td>0.9815060               </td></tr>\n",
       "\t<tr><td>web-science-2           </td><td>0.9787821               </td><td>0.9787821               </td><td>0.9789943               </td><td>0.9787821               </td><td>0.9789943               </td><td>0.9838744               </td></tr>\n",
       "\t<tr><td>web-science-3           </td><td>0.9665508               </td><td>0.9664422               </td><td>0.9673110               </td><td>0.9663336               </td><td>0.9667680               </td><td>0.9744787               </td></tr>\n",
       "\t<tr><td>web-science-4           </td><td>0.9207332               </td><td>0.9204855               </td><td>0.9222195               </td><td>0.9209809               </td><td>0.9208571               </td><td>0.9410453               </td></tr>\n",
       "\t<tr><td>web-science-5           </td><td>0.8704555               </td><td>0.8698287               </td><td>0.8735896               </td><td>0.8696197               </td><td>0.8708734               </td><td>0.8942750               </td></tr>\n",
       "</tbody>\n",
       "</table>\n"
      ],
      "text/latex": [
       "\\begin{tabular}{r|lllllll}\n",
       " short\\_code & gender & country & age\\_range & highest\\_education\\_level & employment\\_status & employment\\_area\\\\\n",
       "\\hline\n",
       "\t research-project-1       & 0.9771562                & 0.9769231                & 0.9773893                & 0.9769231                & 0.9769231                & 0.9796037               \\\\\n",
       "\t research-project-2       & 0.9802122                & 0.9799062                & 0.9803142                & 0.9799062                & 0.9802122                & 0.9827621               \\\\\n",
       "\t research-project-3       & 0.9705949                & 0.9706707                & 0.9713528                & 0.9706707                & 0.9708223                & 0.9749147               \\\\\n",
       "\t research-project-4       & 0.9734650                & 0.9740461                & 0.9742398                & 0.9736587                & 0.9736587                & 0.9768545               \\\\\n",
       "\t research-project-5       & 0.8951465                & 0.8954518                & 0.8966728                & 0.8948413                & 0.8959096                & 0.9137668               \\\\\n",
       "\t understanding-language-1 & 0.9790017                & 0.9788995                & 0.9792060                & 0.9790017                & 0.9789847                & 0.9811475               \\\\\n",
       "\t understanding-language-2 & 0.9745892                & 0.9747803                & 0.9750191                & 0.9746848                & 0.9747803                & 0.9772163               \\\\\n",
       "\t understanding-language-3 & 0.9703469                & 0.9702113                & 0.9706634                & 0.9701661                & 0.9704599                & 0.9726297               \\\\\n",
       "\t understanding-language-4 & 0.8694751                & 0.8697098                & 0.8716655                & 0.8701009                & 0.8704529                & 0.8839865               \\\\\n",
       "\t web-science-1            & 0.9750221                & 0.9750221                & 0.9757589                & 0.9748747                & 0.9748747                & 0.9815060               \\\\\n",
       "\t web-science-2            & 0.9787821                & 0.9787821                & 0.9789943                & 0.9787821                & 0.9789943                & 0.9838744               \\\\\n",
       "\t web-science-3            & 0.9665508                & 0.9664422                & 0.9673110                & 0.9663336                & 0.9667680                & 0.9744787               \\\\\n",
       "\t web-science-4            & 0.9207332                & 0.9204855                & 0.9222195                & 0.9209809                & 0.9208571                & 0.9410453               \\\\\n",
       "\t web-science-5            & 0.8704555                & 0.8698287                & 0.8735896                & 0.8696197                & 0.8708734                & 0.8942750               \\\\\n",
       "\\end{tabular}\n"
      ],
      "text/plain": [
       "   short_code               gender    country   age_range\n",
       "1  research-project-1       0.9771562 0.9769231 0.9773893\n",
       "2  research-project-2       0.9802122 0.9799062 0.9803142\n",
       "3  research-project-3       0.9705949 0.9706707 0.9713528\n",
       "4  research-project-4       0.9734650 0.9740461 0.9742398\n",
       "5  research-project-5       0.8951465 0.8954518 0.8966728\n",
       "6  understanding-language-1 0.9790017 0.9788995 0.9792060\n",
       "7  understanding-language-2 0.9745892 0.9747803 0.9750191\n",
       "8  understanding-language-3 0.9703469 0.9702113 0.9706634\n",
       "9  understanding-language-4 0.8694751 0.8697098 0.8716655\n",
       "10 web-science-1            0.9750221 0.9750221 0.9757589\n",
       "11 web-science-2            0.9787821 0.9787821 0.9789943\n",
       "12 web-science-3            0.9665508 0.9664422 0.9673110\n",
       "13 web-science-4            0.9207332 0.9204855 0.9222195\n",
       "14 web-science-5            0.8704555 0.8698287 0.8735896\n",
       "   highest_education_level employment_status employment_area\n",
       "1  0.9769231               0.9769231         0.9796037      \n",
       "2  0.9799062               0.9802122         0.9827621      \n",
       "3  0.9706707               0.9708223         0.9749147      \n",
       "4  0.9736587               0.9736587         0.9768545      \n",
       "5  0.8948413               0.8959096         0.9137668      \n",
       "6  0.9790017               0.9789847         0.9811475      \n",
       "7  0.9746848               0.9747803         0.9772163      \n",
       "8  0.9701661               0.9704599         0.9726297      \n",
       "9  0.8701009               0.8704529         0.8839865      \n",
       "10 0.9748747               0.9748747         0.9815060      \n",
       "11 0.9787821               0.9789943         0.9838744      \n",
       "12 0.9663336               0.9667680         0.9744787      \n",
       "13 0.9209809               0.9208571         0.9410453      \n",
       "14 0.8696197               0.8708734         0.8942750      "
      ]
     },
     "metadata": {},
     "output_type": "display_data"
    }
   ],
   "source": [
    "get_unknown_demographics()"
   ]
  },
  {
   "cell_type": "markdown",
   "metadata": {},
   "source": [
    "It seems that in general more than 95% of records have the value \"Unknown\" for all demographic fiels. With roughly 5% of the demographic data it is not reliable to use it as criteria either for classifying behaviors or as predictor values."
   ]
  },
  {
   "cell_type": "markdown",
   "metadata": {},
   "source": [
    "## Step Activity Data Frame\n",
    "A quick calculation was applied to the step_activity data by getting the difference between the completed date-time and the first visited one. This difference is obtained in seconds. With the aim to check how accurate is the estimated duration (red) from the course details data, a histogram is displayed along with the mean (red) and median (green) values from all week-step observations."
   ]
  },
  {
   "cell_type": "code",
   "execution_count": 27,
   "metadata": {
    "collapsed": false
   },
   "outputs": [
    {
     "data": {
      "text/html": [
       "2325454"
      ],
      "text/latex": [
       "2325454"
      ],
      "text/markdown": [
       "2325454"
      ],
      "text/plain": [
       "[1] 2325454"
      ]
     },
     "metadata": {},
     "output_type": "display_data"
    },
    {
     "data": {
      "text/plain": [
       "                    short_code    \n",
       " understanding-language-1:468309  \n",
       " understanding-language-2:318232  \n",
       " web-science-1           :231958  \n",
       " understanding-language-3:229217  \n",
       " understanding-language-4:197929  \n",
       " research-project-4      :156399  \n",
       " (Other)                 :723410  \n",
       "                                learner_id       week_number   \n",
       " ef36b469-a4f0-4139-8397-67edc3e667ba:    875   Min.   :1.000  \n",
       " 4a9531dc-2921-4596-a537-f6983e6397ce:    622   1st Qu.:1.000  \n",
       " 00b20d56-9835-48e1-80a1-0c7a750b6d49:    548   Median :2.000  \n",
       " 29b98257-e174-4fa1-ab1c-e32b5c4030f8:    518   Mean   :2.432  \n",
       " b47dc122-cc61-4cd8-a8ae-228bee8d5008:    393   3rd Qu.:3.000  \n",
       " f18355cf-c45f-4ec0-8354-d0fd737ac82b:    335   Max.   :8.000  \n",
       " (Other)                             :2322163                  \n",
       "  step_number     first_visited_at              last_completed_at            \n",
       " Min.   : 1.000   Min.   :2014-02-03 10:34:44   Min.   :2013-10-21 15:34:18  \n",
       " 1st Qu.: 3.000   1st Qu.:2014-11-18 18:14:49   1st Qu.:2014-10-13 06:31:30  \n",
       " Median : 7.000   Median :2015-04-28 17:30:37   Median :2014-12-21 03:27:48  \n",
       " Mean   : 7.678   Mean   :2015-05-02 09:30:55   Mean   :2015-03-03 03:02:35  \n",
       " 3rd Qu.:11.000   3rd Qu.:2015-10-25 15:57:55   3rd Qu.:2015-10-20 09:13:21  \n",
       " Max.   :26.000   Max.   :2016-07-12 23:46:02   Max.   :2016-07-12 23:48:34  \n",
       "                  NA's   :231990                NA's   :339350               \n",
       " total_seconds     \n",
       " Min.   :       0  \n",
       " 1st Qu.:      50  \n",
       " Median :     245  \n",
       " Mean   :   76131  \n",
       " 3rd Qu.:     982  \n",
       " Max.   :45774654  \n",
       " NA's   :571337    "
      ]
     },
     "metadata": {},
     "output_type": "display_data"
    }
   ],
   "source": [
    "nrow(df_step_activity)\n",
    "summary(df_step_activity)"
   ]
  },
  {
   "cell_type": "markdown",
   "metadata": {},
   "source": [
    "From the summary it seems that the short_code is correctly assigned, as well as learner_id, week_number and step_number. However, the first_visited_at and last_completed_at values seem to have some NAs. This may be expected for a proportion of last_completed_at observations. However, just the fact that a record exist means that there should be a first_visited_at value at some point, and the most reasonable value may be the last_completed_at value for the previous step, or simply the last_completed_at value for the same step, but substracting the average duration for the step. In any case, it's important to set the first_visited_at value since NAs make roughly 10% of the total number of records.\n",
    "\n",
    "The average duration is a value that is being analyzed in the following plot."
   ]
  },
  {
   "cell_type": "code",
   "execution_count": 21,
   "metadata": {
    "collapsed": false,
    "scrolled": false
   },
   "outputs": [
    {
     "data": {},
     "metadata": {},
     "output_type": "display_data"
    },
    {
     "data": {
      "image/png": "[encoded data removed]",
      "text/plain": [
       "plot without title"
      ]
     },
     "metadata": {},
     "output_type": "display_data"
    }
   ],
   "source": [
    "plot_weeks_steps_hist(\"research-project-3\")"
   ]
  },
  {
   "cell_type": "markdown",
   "metadata": {
    "collapsed": true
   },
   "source": [
    "For most verified course short_codes, it was possible to establish that, due to the existence of big outlayers, **the most reasonable value to be considered as the reference duration is the median of measured visit length in seconds**. This value along with the estimated duration at course design will help getting an interesting picture about how accurate is such estimation, behaviors per content type, possible patterns according to content type, dropout points or symptoms, and if likely, estimate a reasonable criteria to define wheteher a user session start or ends.\n",
    "\n",
    "- Add a plot with day hours participants usually consume the material. Clarify also that this may require time zone conversions and that's a useful field to get this exact pattern.\n",
    "- Additionally, describe why having the time zone or user location will help with learner patterns connected to cultural factors"
   ]
  }
 ],
 "metadata": {
  "anaconda-cloud": {},
  "kernelspec": {
   "display_name": "R",
   "language": "R",
   "name": "ir"
  },
  "language_info": {
   "codemirror_mode": "r",
   "file_extension": ".r",
   "mimetype": "text/x-r-source",
   "name": "R",
   "pygments_lexer": "r",
   "version": "3.2.5"
  }
 },
 "nbformat": 4,
 "nbformat_minor": 0
}
