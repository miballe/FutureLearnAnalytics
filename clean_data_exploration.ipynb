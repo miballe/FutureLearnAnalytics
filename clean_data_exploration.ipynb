{
 "cells": [
  {
   "cell_type": "markdown",
   "metadata": {},
   "source": [
    "# Data Analytics for MOOC Providers\n",
    "\n",
    "#### Created by [Miguel Ballesteros](mailto:mabm1e15@soton.ac.uk)"
   ]
  },
  {
   "cell_type": "markdown",
   "metadata": {},
   "source": [
    "### *Notebook list*\n",
    "1. [Introduction](index.ipynb)\n",
    "2. [The Downloaded CSV Files](downloaded_data.ipynb)\n",
    "3. [Data Processing Pipeline](data_pipeline.ipynb)\n",
    "4. **[Clean Data Exploration](clean_data_exploration.ipynb)**\n",
    "5. [Understanding MOOC behaviors](understanding_mooc.ipynb)\n",
    "6. [Predicting Dropouts](predicting_dropouts)\n",
    "7. [Conclusions](conclusions.ipynb)\n",
    "8. [Future Work](future_work.ipynb)"
   ]
  },
  {
   "cell_type": "markdown",
   "metadata": {},
   "source": [
    "### *In this notebook...*\n",
    "1. [Exploration Goal](#Exploration-Goal)\n",
    "2. [Data Load](#Data-Load)\n",
    "3. [Course Data Frames](#Course-Data-Frames)\n",
    "4. [Enrolments Data Frame](#Enrolments-Data-Frame)\n",
    "5. [Step Activity Data Frame](#Step-Activity-Data-Frame)"
   ]
  },
  {
   "cell_type": "markdown",
   "metadata": {},
   "source": [
    "## Exploration Goal\n",
    "\n",
    "Within this notebook the cleaned data is explored with the aim to determine the possible transformations to use in later models. The cleaned data is basically the raw data after removing invalid entries and converting all columns to the right data types.\n",
    "\n",
    "The task starts by loading the cleaned data from the RData file saved in the folder Data_Clean using the same methods defined for the pipeline processing. Then the data frames are listed. When using the default values, those are identified with the prefix \"df_\"."
   ]
  },
  {
   "cell_type": "markdown",
   "metadata": {},
   "source": [
    "## Data Load"
   ]
  },
  {
   "cell_type": "code",
   "execution_count": 25,
   "metadata": {
    "collapsed": false
   },
   "outputs": [
    {
     "name": "stdout",
     "output_type": "stream",
     "text": [
      "[1] \"INFO - START - load_clean_data_file\"\n",
      "[1] \"INFO - END - load_clean_data_file - Elapsed: 3.45999999999913 s\"\n"
     ]
    },
    {
     "data": {
      "text/html": [
       "<table>\n",
       "<thead><tr><th scope=col>short_code</th><th scope=col>df_course_list</th><th scope=col>df_course_details</th><th scope=col>df_enrolments</th><th scope=col>df_step_activity</th><th scope=col>df_comments</th><th scope=col>df_pr_assignments</th><th scope=col>df_pr_reviews</th><th scope=col>df_question_response</th></tr></thead>\n",
       "<tbody>\n",
       "\t<tr><td>research-project-1      </td><td>1                       </td><td> 80                     </td><td> 8642                   </td><td>127967                  </td><td> 14454                  </td><td>1105                    </td><td>1808                    </td><td> 17222                  </td></tr>\n",
       "\t<tr><td>research-project-2      </td><td>1                       </td><td> 80                     </td><td> 9844                   </td><td>119787                  </td><td> 12661                  </td><td>1063                    </td><td>1573                    </td><td> 12807                  </td></tr>\n",
       "\t<tr><td>research-project-3      </td><td>1                       </td><td> 80                     </td><td>13232                   </td><td>144700                  </td><td> 14581                  </td><td>1235                    </td><td>1752                    </td><td> 20692                  </td></tr>\n",
       "\t<tr><td>research-project-4      </td><td>1                       </td><td> 80                     </td><td>10361                   </td><td>156399                  </td><td> 13074                  </td><td>1467                    </td><td>1839                    </td><td> 26014                  </td></tr>\n",
       "\t<tr><td>research-project-5      </td><td>1                       </td><td> 80                     </td><td> 6569                   </td><td> 69393                  </td><td>  8111                  </td><td> 554                    </td><td> 824                    </td><td>  9214                  </td></tr>\n",
       "\t<tr><td>understanding-language-1</td><td>1                       </td><td> 64                     </td><td>58788                   </td><td>468309                  </td><td>145425                  </td><td>   0                    </td><td>   0                    </td><td>     0                  </td></tr>\n",
       "\t<tr><td>understanding-language-2</td><td>1                       </td><td> 66                     </td><td>41916                   </td><td>318232                  </td><td> 86139                  </td><td>   0                    </td><td>   0                    </td><td>     0                  </td></tr>\n",
       "\t<tr><td>understanding-language-3</td><td>1                       </td><td> 66                     </td><td>44287                   </td><td>229217                  </td><td> 58285                  </td><td>   0                    </td><td>   0                    </td><td>     0                  </td></tr>\n",
       "\t<tr><td>understanding-language-4</td><td>1                       </td><td> 66                     </td><td>25596                   </td><td>197929                  </td><td> 50332                  </td><td>   0                    </td><td>   0                    </td><td>     0                  </td></tr>\n",
       "\t<tr><td>web-science-1           </td><td>1                       </td><td>124                     </td><td>13674                   </td><td>231958                  </td><td> 18414                  </td><td>   0                    </td><td>   0                    </td><td>104588                  </td></tr>\n",
       "\t<tr><td>web-science-2           </td><td>1                       </td><td>123                     </td><td> 4755                   </td><td> 87189                  </td><td>  6294                  </td><td> 183                    </td><td> 294                    </td><td> 31589                  </td></tr>\n",
       "\t<tr><td>web-science-3           </td><td>1                       </td><td>125                     </td><td> 9249                   </td><td>109910                  </td><td> 10965                  </td><td> 168                    </td><td> 250                    </td><td> 44615                  </td></tr>\n",
       "\t<tr><td>web-science-4           </td><td>1                       </td><td> 34                     </td><td> 8105                   </td><td> 41944                  </td><td>  6413                  </td><td> 341                    </td><td> 532                    </td><td>     0                  </td></tr>\n",
       "\t<tr><td>web-science-5           </td><td>1                       </td><td> 34                     </td><td> 4810                   </td><td> 22520                  </td><td>  4056                  </td><td> 215                    </td><td> 341                    </td><td>     0                  </td></tr>\n",
       "</tbody>\n",
       "</table>\n"
      ],
      "text/latex": [
       "\\begin{tabular}{r|lllllllll}\n",
       " short\\_code & df\\_course\\_list & df\\_course\\_details & df\\_enrolments & df\\_step\\_activity & df\\_comments & df\\_pr\\_assignments & df\\_pr\\_reviews & df\\_question\\_response\\\\\n",
       "\\hline\n",
       "\t research-project-1       & 1                        &  80                      &  8642                    & 127967                   &  14454                   & 1105                     & 1808                     &  17222                  \\\\\n",
       "\t research-project-2       & 1                        &  80                      &  9844                    & 119787                   &  12661                   & 1063                     & 1573                     &  12807                  \\\\\n",
       "\t research-project-3       & 1                        &  80                      & 13232                    & 144700                   &  14581                   & 1235                     & 1752                     &  20692                  \\\\\n",
       "\t research-project-4       & 1                        &  80                      & 10361                    & 156399                   &  13074                   & 1467                     & 1839                     &  26014                  \\\\\n",
       "\t research-project-5       & 1                        &  80                      &  6569                    &  69393                   &   8111                   &  554                     &  824                     &   9214                  \\\\\n",
       "\t understanding-language-1 & 1                        &  64                      & 58788                    & 468309                   & 145425                   &    0                     &    0                     &      0                  \\\\\n",
       "\t understanding-language-2 & 1                        &  66                      & 41916                    & 318232                   &  86139                   &    0                     &    0                     &      0                  \\\\\n",
       "\t understanding-language-3 & 1                        &  66                      & 44287                    & 229217                   &  58285                   &    0                     &    0                     &      0                  \\\\\n",
       "\t understanding-language-4 & 1                        &  66                      & 25596                    & 197929                   &  50332                   &    0                     &    0                     &      0                  \\\\\n",
       "\t web-science-1            & 1                        & 124                      & 13674                    & 231958                   &  18414                   &    0                     &    0                     & 104588                  \\\\\n",
       "\t web-science-2            & 1                        & 123                      &  4755                    &  87189                   &   6294                   &  183                     &  294                     &  31589                  \\\\\n",
       "\t web-science-3            & 1                        & 125                      &  9249                    & 109910                   &  10965                   &  168                     &  250                     &  44615                  \\\\\n",
       "\t web-science-4            & 1                        &  34                      &  8105                    &  41944                   &   6413                   &  341                     &  532                     &      0                  \\\\\n",
       "\t web-science-5            & 1                        &  34                      &  4810                    &  22520                   &   4056                   &  215                     &  341                     &      0                  \\\\\n",
       "\\end{tabular}\n"
      ],
      "text/plain": [
       "   short_code               df_course_list df_course_details df_enrolments\n",
       "1  research-project-1       1               80                8642        \n",
       "2  research-project-2       1               80                9844        \n",
       "3  research-project-3       1               80               13232        \n",
       "4  research-project-4       1               80               10361        \n",
       "5  research-project-5       1               80                6569        \n",
       "6  understanding-language-1 1               64               58788        \n",
       "7  understanding-language-2 1               66               41916        \n",
       "8  understanding-language-3 1               66               44287        \n",
       "9  understanding-language-4 1               66               25596        \n",
       "10 web-science-1            1              124               13674        \n",
       "11 web-science-2            1              123                4755        \n",
       "12 web-science-3            1              125                9249        \n",
       "13 web-science-4            1               34                8105        \n",
       "14 web-science-5            1               34                4810        \n",
       "   df_step_activity df_comments df_pr_assignments df_pr_reviews\n",
       "1  127967            14454      1105              1808         \n",
       "2  119787            12661      1063              1573         \n",
       "3  144700            14581      1235              1752         \n",
       "4  156399            13074      1467              1839         \n",
       "5   69393             8111       554               824         \n",
       "6  468309           145425         0                 0         \n",
       "7  318232            86139         0                 0         \n",
       "8  229217            58285         0                 0         \n",
       "9  197929            50332         0                 0         \n",
       "10 231958            18414         0                 0         \n",
       "11  87189             6294       183               294         \n",
       "12 109910            10965       168               250         \n",
       "13  41944             6413       341               532         \n",
       "14  22520             4056       215               341         \n",
       "   df_question_response\n",
       "1   17222              \n",
       "2   12807              \n",
       "3   20692              \n",
       "4   26014              \n",
       "5    9214              \n",
       "6       0              \n",
       "7       0              \n",
       "8       0              \n",
       "9       0              \n",
       "10 104588              \n",
       "11  31589              \n",
       "12  44615              \n",
       "13      0              \n",
       "14      0              "
      ]
     },
     "metadata": {},
     "output_type": "display_data"
    }
   ],
   "source": [
    "source(\"00_config.r\")              # R file with global configuration values\n",
    "source(\"02_clean.r\")               # R file with clean-related functions\n",
    "load_clean_data_file(DATA_CLEAN)   # Function defined in the clean functions. Loads the preprocessed clean data.\n",
    "summary_clean_data()               # Table summarizing the number of records per data frame, grouped by the short course name"
   ]
  },
  {
   "cell_type": "markdown",
   "metadata": {},
   "source": [
    "In the previous table a list of all loaded courses and number of records for each data source is displayed. Please keep in mind the notation of the short_code field, since it is the unique name used to link all data sources, and the main parameter for many operations.\n",
    "\n",
    "* **df_course_XXXX:** These data frames were custom built and those are not expected to contain issues. However, basic verifications are done to ensure the data is consistent and ready for transformation.\n",
    "* **df_enrolments:** This is the most important source of participant's data. It has just a little of demographic details, so it's important to verify exactly how reliable or relevant is such data. The role field is important to remove those participants performing only administrative actions. The enrolled_at field may be helpful as a predictor factor for the dropout analysis, transformed as X hours or days before/after the course start date.\n",
    "* **df_step_activity:** This data frame contains the most important participant-course interaction information. However, it is given only as a set of two dates: *first_visited_at* and *last_completed_at*. All other fields are used for classification within the course-week-step and link to the enrolment data. For this reason, at this point during the data cleaning the duration (difference between the two dates) was calculated with the aim to find patterns and understand navigation behaviors in the course.\n",
    "* **df_pr_XXX:** These data frames are relevant only for some courses, and with just few entries compared to the total number of participants. However due to the high amount of text  it may be useful to apply NLP analytics and calculate some indices that later may be helpful for the dropout prediction (as performed in a previous study). Apparently just the participation in the assessment seem to suggest something about the level of engagement.\n",
    "* **df_question_response:** contains all question-response attempts either those are correct or incorrect. This data may be useful to calculate an index for the number of retries, that at the same time may help measuring the level of engagement and therefore, useful for the dropout prediction.\n"
   ]
  },
  {
   "cell_type": "markdown",
   "metadata": {},
   "source": [
    "## Course Data Frames\n",
    "Even if this data is expected to be OK, the number of weeks are calculated for the total course range as well as each week-step from the course details. This basic calculation was performed during the clean step mainly for verification proposes.\n",
    "\n",
    "* Please check that the total_weeks value in the course_list table is the expected one. Otherwise, verify that the times are correct and also verify if there's a summer time change that may affect the calculation. This is a known issue which requires to add 1 hour to the end_date of the week the change takes place.\n",
    "\n",
    "- TODO: Show the calculated number of days for course_details records, or show exceptions not matching 7.\n"
   ]
  },
  {
   "cell_type": "code",
   "execution_count": 26,
   "metadata": {
    "collapsed": false
   },
   "outputs": [
    {
     "data": {
      "text/html": [
       "<table>\n",
       "<thead><tr><th scope=col>short_code</th><th scope=col>start_date</th><th scope=col>end_date</th><th scope=col>total_weeks</th></tr></thead>\n",
       "<tbody>\n",
       "\t<tr><td>research-project-1      </td><td>2014-07-07              </td><td>2014-09-01 00:00:00     </td><td>8                       </td></tr>\n",
       "\t<tr><td>research-project-2      </td><td>2014-09-15              </td><td>2014-11-10 00:00:00     </td><td>8                       </td></tr>\n",
       "\t<tr><td>research-project-3      </td><td>2015-06-22              </td><td>2015-08-17 00:00:00     </td><td>8                       </td></tr>\n",
       "\t<tr><td>research-project-4      </td><td>2015-09-14              </td><td>2015-11-09 00:00:00     </td><td>8                       </td></tr>\n",
       "\t<tr><td>research-project-5      </td><td>2016-03-07              </td><td>2016-05-02 01:00:00     </td><td>8                       </td></tr>\n",
       "\t<tr><td>web-science-1           </td><td>2013-11-11              </td><td>2013-12-23 00:00:00     </td><td>6                       </td></tr>\n",
       "\t<tr><td>web-science-2           </td><td>2014-02-10              </td><td>2014-03-24 00:00:00     </td><td>6                       </td></tr>\n",
       "\t<tr><td>web-science-3           </td><td>2014-10-06              </td><td>2014-11-17 00:00:00     </td><td>6                       </td></tr>\n",
       "\t<tr><td>web-science-4           </td><td>2015-11-30              </td><td>2015-12-14 00:00:00     </td><td>2                       </td></tr>\n",
       "\t<tr><td>web-science-5           </td><td>2016-06-27              </td><td>2016-07-11 00:00:00     </td><td>2                       </td></tr>\n",
       "\t<tr><td>understanding-language-1</td><td>2014-11-17              </td><td>2014-12-15 00:00:00     </td><td>4                       </td></tr>\n",
       "\t<tr><td>understanding-language-2</td><td>2015-04-20              </td><td>2015-05-18 00:00:00     </td><td>4                       </td></tr>\n",
       "\t<tr><td>understanding-language-3</td><td>2015-10-19              </td><td>2015-11-16 00:00:00     </td><td>4                       </td></tr>\n",
       "\t<tr><td>understanding-language-4</td><td>2016-04-04              </td><td>2016-05-02 00:00:00     </td><td>4                       </td></tr>\n",
       "</tbody>\n",
       "</table>\n"
      ],
      "text/latex": [
       "\\begin{tabular}{r|llll}\n",
       " short\\_code & start\\_date & end\\_date & total\\_weeks\\\\\n",
       "\\hline\n",
       "\t research-project-1       & 2014-07-07               & 2014-09-01 00:00:00      & 8                       \\\\\n",
       "\t research-project-2       & 2014-09-15               & 2014-11-10 00:00:00      & 8                       \\\\\n",
       "\t research-project-3       & 2015-06-22               & 2015-08-17 00:00:00      & 8                       \\\\\n",
       "\t research-project-4       & 2015-09-14               & 2015-11-09 00:00:00      & 8                       \\\\\n",
       "\t research-project-5       & 2016-03-07               & 2016-05-02 01:00:00      & 8                       \\\\\n",
       "\t web-science-1            & 2013-11-11               & 2013-12-23 00:00:00      & 6                       \\\\\n",
       "\t web-science-2            & 2014-02-10               & 2014-03-24 00:00:00      & 6                       \\\\\n",
       "\t web-science-3            & 2014-10-06               & 2014-11-17 00:00:00      & 6                       \\\\\n",
       "\t web-science-4            & 2015-11-30               & 2015-12-14 00:00:00      & 2                       \\\\\n",
       "\t web-science-5            & 2016-06-27               & 2016-07-11 00:00:00      & 2                       \\\\\n",
       "\t understanding-language-1 & 2014-11-17               & 2014-12-15 00:00:00      & 4                       \\\\\n",
       "\t understanding-language-2 & 2015-04-20               & 2015-05-18 00:00:00      & 4                       \\\\\n",
       "\t understanding-language-3 & 2015-10-19               & 2015-11-16 00:00:00      & 4                       \\\\\n",
       "\t understanding-language-4 & 2016-04-04               & 2016-05-02 00:00:00      & 4                       \\\\\n",
       "\\end{tabular}\n"
      ],
      "text/plain": [
       "   short_code               start_date end_date            total_weeks\n",
       "1  research-project-1       2014-07-07 2014-09-01 00:00:00 8          \n",
       "2  research-project-2       2014-09-15 2014-11-10 00:00:00 8          \n",
       "3  research-project-3       2015-06-22 2015-08-17 00:00:00 8          \n",
       "4  research-project-4       2015-09-14 2015-11-09 00:00:00 8          \n",
       "5  research-project-5       2016-03-07 2016-05-02 01:00:00 8          \n",
       "6  web-science-1            2013-11-11 2013-12-23 00:00:00 6          \n",
       "7  web-science-2            2014-02-10 2014-03-24 00:00:00 6          \n",
       "8  web-science-3            2014-10-06 2014-11-17 00:00:00 6          \n",
       "9  web-science-4            2015-11-30 2015-12-14 00:00:00 2          \n",
       "10 web-science-5            2016-06-27 2016-07-11 00:00:00 2          \n",
       "11 understanding-language-1 2014-11-17 2014-12-15 00:00:00 4          \n",
       "12 understanding-language-2 2015-04-20 2015-05-18 00:00:00 4          \n",
       "13 understanding-language-3 2015-10-19 2015-11-16 00:00:00 4          \n",
       "14 understanding-language-4 2016-04-04 2016-05-02 00:00:00 4          "
      ]
     },
     "metadata": {},
     "output_type": "display_data"
    }
   ],
   "source": [
    "df_course_list[,c(\"short_code\", \"start_date\", \"end_date\", \"total_weeks\")]"
   ]
  },
  {
   "cell_type": "markdown",
   "metadata": {},
   "source": [
    "## Enrolments Data Frame\n",
    "\n",
    "- Calculate the number of participants enroled in more than 1 course <- This has to be done in a transformed participant only data frame\n",
    "- Separate or identify the participant role to avoid some noise for admin activities\n",
    "- Calculate the percentage of exising data for all demographic fields\n",
    "\n"
   ]
  },
  {
   "cell_type": "code",
   "execution_count": 27,
   "metadata": {
    "collapsed": false
   },
   "outputs": [
    {
     "data": {
      "text/html": [
       "259828"
      ],
      "text/latex": [
       "259828"
      ],
      "text/markdown": [
       "259828"
      ],
      "text/plain": [
       "[1] 259828"
      ]
     },
     "metadata": {},
     "output_type": "display_data"
    },
    {
     "data": {
      "text/plain": [
       "\n",
       "             admin            learner           marketer          moderator \n",
       "               179             259212                  2                  1 \n",
       "organisation_admin \n",
       "               434 "
      ]
     },
     "metadata": {},
     "output_type": "display_data"
    }
   ],
   "source": [
    "nrow(df_enrolments)\n",
    "table(df_enrolments$role)"
   ]
  },
  {
   "cell_type": "markdown",
   "metadata": {},
   "source": [
    "## Step Activity Data Frame\n",
    "\n",
    "- Filtered by short_code, plot the LOG histogram of the duration field for all week-step combinations. Add a reference line with the median, mean and expected time.\n"
   ]
  },
  {
   "cell_type": "code",
   "execution_count": 22,
   "metadata": {
    "collapsed": false,
    "scrolled": true
   },
   "outputs": [
    {
     "name": "stderr",
     "output_type": "stream",
     "text": [
      "`stat_bin()` using `bins = 30`. Pick better value with `binwidth`.\n"
     ]
    },
    {
     "data": {},
     "metadata": {},
     "output_type": "display_data"
    },
    {
     "data": {
      "image/png": "[encoded data removed]",
      "text/plain": [
       "plot without title"
      ]
     },
     "metadata": {},
     "output_type": "display_data"
    }
   ],
   "source": [
    "# library(ggplot2)\n",
    "df_plot <- df_step_activity[df_step_activity$short_code == \"research-project-5\" & !is.na(df_step_activity$total_seconds), c(\"short_code\", \"week_number\", \"step_number\", \"total_seconds\")]\n",
    "ggplot(df_plot) +\n",
    "  geom_histogram(aes(x = log(total_seconds)), color = \"grey70\") + \n",
    "  facet_grid(week_number~step_number)"
   ]
  }
 ],
 "metadata": {
  "anaconda-cloud": {},
  "kernelspec": {
   "display_name": "R",
   "language": "R",
   "name": "ir"
  },
  "language_info": {
   "codemirror_mode": "r",
   "file_extension": ".r",
   "mimetype": "text/x-r-source",
   "name": "R",
   "pygments_lexer": "r",
   "version": "3.2.5"
  }
 },
 "nbformat": 4,
 "nbformat_minor": 0
}
