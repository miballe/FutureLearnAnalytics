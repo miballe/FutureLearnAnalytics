{
 "cells": [
  {
   "cell_type": "markdown",
   "metadata": {},
   "source": [
    "# Data Analytics for MOOC Providers\n",
    "\n",
    "#### Created by [Miguel Ballesteros](mailto:mabm1e15@soton.ac.uk)"
   ]
  },
  {
   "cell_type": "markdown",
   "metadata": {},
   "source": [
    "### *Notebook list*\n",
    "1. [Introduction](index.ipynb)\n",
    "2. [The Downloaded CSV Files](downloaded_data.ipynb)\n",
    "3. [Data Processing Pipeline](data_pipeline.ipynb)\n",
    "4. **[Clean Data Exploration](clean_data_exploration.ipynb)**\n",
    "5. [Understanding MOOC behaviors](understanding_mooc.ipynb)\n",
    "6. [Predicting Dropouts](predicting_dropouts)\n",
    "7. [Conclusions](conclusions.ipynb)\n",
    "8. [Future Work](future_work.ipynb)"
   ]
  },
  {
   "cell_type": "markdown",
   "metadata": {},
   "source": [
    "### *In this notebook...*\n",
    "1. [Exploration Goal](#Exploration-Goal)\n",
    "2. [Data Load](#Data-Load)"
   ]
  },
  {
   "cell_type": "markdown",
   "metadata": {},
   "source": [
    "## Exploration Goal\n",
    "\n",
    "Within this notebook the cleaned data is explored with the aim to determine the possible transformations to use in later models. The cleaned data is basically the raw data after removing invalid entries and converting all columns to the right data types.\n",
    "\n",
    "The task starts by loading the cleaned data from the RData file saved in the folder Data_Clean using the same methods defined for the pipeline processing. Then the data frames are listed. When using the default values, those are identified with the prefix \"df_\"."
   ]
  },
  {
   "cell_type": "markdown",
   "metadata": {},
   "source": [
    "## Data Load"
   ]
  },
  {
   "cell_type": "code",
   "execution_count": 2,
   "metadata": {
    "collapsed": false
   },
   "outputs": [
    {
     "name": "stdout",
     "output_type": "stream",
     "text": [
      "[1] \"INFO - START - load_clean_data_file\"\n",
      "[1] \"INFO - END - load_clean_data_file - Elapsed: 3.27 s\"\n"
     ]
    },
    {
     "data": {
      "text/html": [
       "<table>\n",
       "<thead><tr><th scope=col>short_code</th><th scope=col>df_course_list</th><th scope=col>df_course_details</th><th scope=col>df_enrolments</th><th scope=col>df_step_activity</th><th scope=col>df_comments</th><th scope=col>df_pr_assignments</th><th scope=col>df_pr_reviews</th><th scope=col>df_question_response</th></tr></thead>\n",
       "<tbody>\n",
       "\t<tr><td>research-project-1      </td><td>1                       </td><td> 80                     </td><td> 8642                   </td><td>127967                  </td><td> 14454                  </td><td>1105                    </td><td>1808                    </td><td> 17222                  </td></tr>\n",
       "\t<tr><td>research-project-2      </td><td>1                       </td><td> 80                     </td><td> 9844                   </td><td>119787                  </td><td> 12661                  </td><td>1063                    </td><td>1573                    </td><td> 12807                  </td></tr>\n",
       "\t<tr><td>research-project-3      </td><td>1                       </td><td> 80                     </td><td>13232                   </td><td>144700                  </td><td> 14581                  </td><td>1235                    </td><td>1752                    </td><td> 20692                  </td></tr>\n",
       "\t<tr><td>research-project-4      </td><td>1                       </td><td> 80                     </td><td>10361                   </td><td>156399                  </td><td> 13074                  </td><td>1467                    </td><td>1839                    </td><td> 26014                  </td></tr>\n",
       "\t<tr><td>research-project-5      </td><td>1                       </td><td> 80                     </td><td> 6569                   </td><td> 69393                  </td><td>  8111                  </td><td> 554                    </td><td> 824                    </td><td>  9214                  </td></tr>\n",
       "\t<tr><td>understanding-language-1</td><td>1                       </td><td> 64                     </td><td>58788                   </td><td>468309                  </td><td>145425                  </td><td>   0                    </td><td>   0                    </td><td>     0                  </td></tr>\n",
       "\t<tr><td>understanding-language-2</td><td>1                       </td><td> 66                     </td><td>41916                   </td><td>318232                  </td><td> 86139                  </td><td>   0                    </td><td>   0                    </td><td>     0                  </td></tr>\n",
       "\t<tr><td>understanding-language-3</td><td>1                       </td><td> 66                     </td><td>44287                   </td><td>229217                  </td><td> 58285                  </td><td>   0                    </td><td>   0                    </td><td>     0                  </td></tr>\n",
       "\t<tr><td>understanding-language-4</td><td>1                       </td><td> 66                     </td><td>25596                   </td><td>197929                  </td><td> 50332                  </td><td>   0                    </td><td>   0                    </td><td>     0                  </td></tr>\n",
       "\t<tr><td>web-science-1           </td><td>1                       </td><td>124                     </td><td>13674                   </td><td>231958                  </td><td> 18414                  </td><td>   0                    </td><td>   0                    </td><td>104588                  </td></tr>\n",
       "\t<tr><td>web-science-2           </td><td>1                       </td><td>123                     </td><td> 4755                   </td><td> 87189                  </td><td>  6294                  </td><td> 183                    </td><td> 294                    </td><td> 31589                  </td></tr>\n",
       "\t<tr><td>web-science-3           </td><td>1                       </td><td>125                     </td><td> 9249                   </td><td>109910                  </td><td> 10965                  </td><td> 168                    </td><td> 250                    </td><td> 44615                  </td></tr>\n",
       "\t<tr><td>web-science-4           </td><td>1                       </td><td> 34                     </td><td> 8105                   </td><td> 41944                  </td><td>  6413                  </td><td> 341                    </td><td> 532                    </td><td>     0                  </td></tr>\n",
       "\t<tr><td>web-science-5           </td><td>1                       </td><td> 34                     </td><td> 4810                   </td><td> 22520                  </td><td>  4056                  </td><td> 215                    </td><td> 341                    </td><td>     0                  </td></tr>\n",
       "</tbody>\n",
       "</table>\n"
      ],
      "text/latex": [
       "\\begin{tabular}{r|lllllllll}\n",
       " short\\_code & df\\_course\\_list & df\\_course\\_details & df\\_enrolments & df\\_step\\_activity & df\\_comments & df\\_pr\\_assignments & df\\_pr\\_reviews & df\\_question\\_response\\\\\n",
       "\\hline\n",
       "\t research-project-1       & 1                        &  80                      &  8642                    & 127967                   &  14454                   & 1105                     & 1808                     &  17222                  \\\\\n",
       "\t research-project-2       & 1                        &  80                      &  9844                    & 119787                   &  12661                   & 1063                     & 1573                     &  12807                  \\\\\n",
       "\t research-project-3       & 1                        &  80                      & 13232                    & 144700                   &  14581                   & 1235                     & 1752                     &  20692                  \\\\\n",
       "\t research-project-4       & 1                        &  80                      & 10361                    & 156399                   &  13074                   & 1467                     & 1839                     &  26014                  \\\\\n",
       "\t research-project-5       & 1                        &  80                      &  6569                    &  69393                   &   8111                   &  554                     &  824                     &   9214                  \\\\\n",
       "\t understanding-language-1 & 1                        &  64                      & 58788                    & 468309                   & 145425                   &    0                     &    0                     &      0                  \\\\\n",
       "\t understanding-language-2 & 1                        &  66                      & 41916                    & 318232                   &  86139                   &    0                     &    0                     &      0                  \\\\\n",
       "\t understanding-language-3 & 1                        &  66                      & 44287                    & 229217                   &  58285                   &    0                     &    0                     &      0                  \\\\\n",
       "\t understanding-language-4 & 1                        &  66                      & 25596                    & 197929                   &  50332                   &    0                     &    0                     &      0                  \\\\\n",
       "\t web-science-1            & 1                        & 124                      & 13674                    & 231958                   &  18414                   &    0                     &    0                     & 104588                  \\\\\n",
       "\t web-science-2            & 1                        & 123                      &  4755                    &  87189                   &   6294                   &  183                     &  294                     &  31589                  \\\\\n",
       "\t web-science-3            & 1                        & 125                      &  9249                    & 109910                   &  10965                   &  168                     &  250                     &  44615                  \\\\\n",
       "\t web-science-4            & 1                        &  34                      &  8105                    &  41944                   &   6413                   &  341                     &  532                     &      0                  \\\\\n",
       "\t web-science-5            & 1                        &  34                      &  4810                    &  22520                   &   4056                   &  215                     &  341                     &      0                  \\\\\n",
       "\\end{tabular}\n"
      ],
      "text/plain": [
       "   short_code               df_course_list df_course_details df_enrolments\n",
       "1  research-project-1       1               80                8642        \n",
       "2  research-project-2       1               80                9844        \n",
       "3  research-project-3       1               80               13232        \n",
       "4  research-project-4       1               80               10361        \n",
       "5  research-project-5       1               80                6569        \n",
       "6  understanding-language-1 1               64               58788        \n",
       "7  understanding-language-2 1               66               41916        \n",
       "8  understanding-language-3 1               66               44287        \n",
       "9  understanding-language-4 1               66               25596        \n",
       "10 web-science-1            1              124               13674        \n",
       "11 web-science-2            1              123                4755        \n",
       "12 web-science-3            1              125                9249        \n",
       "13 web-science-4            1               34                8105        \n",
       "14 web-science-5            1               34                4810        \n",
       "   df_step_activity df_comments df_pr_assignments df_pr_reviews\n",
       "1  127967            14454      1105              1808         \n",
       "2  119787            12661      1063              1573         \n",
       "3  144700            14581      1235              1752         \n",
       "4  156399            13074      1467              1839         \n",
       "5   69393             8111       554               824         \n",
       "6  468309           145425         0                 0         \n",
       "7  318232            86139         0                 0         \n",
       "8  229217            58285         0                 0         \n",
       "9  197929            50332         0                 0         \n",
       "10 231958            18414         0                 0         \n",
       "11  87189             6294       183               294         \n",
       "12 109910            10965       168               250         \n",
       "13  41944             6413       341               532         \n",
       "14  22520             4056       215               341         \n",
       "   df_question_response\n",
       "1   17222              \n",
       "2   12807              \n",
       "3   20692              \n",
       "4   26014              \n",
       "5    9214              \n",
       "6       0              \n",
       "7       0              \n",
       "8       0              \n",
       "9       0              \n",
       "10 104588              \n",
       "11  31589              \n",
       "12  44615              \n",
       "13      0              \n",
       "14      0              "
      ]
     },
     "metadata": {},
     "output_type": "display_data"
    }
   ],
   "source": [
    "source(\"00_config.r\")              # R file with global configuration values\n",
    "source(\"02_clean.r\")               # R file with clean-related functions\n",
    "load_clean_data_file(DATA_CLEAN)   # Function defined in the clean functions. Loads the preprocessed clean data.\n",
    "summary_clean_data()               # Table summarizing the number of records per data frame, grouped by the short course name"
   ]
  },
  {
   "cell_type": "markdown",
   "metadata": {},
   "source": [
    "In the previous table a list of all loaded courses and number of records for each data source is displayed.\n",
    "\n",
    "Please keep in mind the notation of the short_code field, since it is the unique name used to link all data sources, and the main parameter for most operations."
   ]
  },
  {
   "cell_type": "code",
   "execution_count": null,
   "metadata": {
    "collapsed": true
   },
   "outputs": [],
   "source": []
  }
 ],
 "metadata": {
  "anaconda-cloud": {},
  "kernelspec": {
   "display_name": "R",
   "language": "R",
   "name": "ir"
  },
  "language_info": {
   "codemirror_mode": "r",
   "file_extension": ".r",
   "mimetype": "text/x-r-source",
   "name": "R",
   "pygments_lexer": "r",
   "version": "3.2.5"
  }
 },
 "nbformat": 4,
 "nbformat_minor": 0
}
