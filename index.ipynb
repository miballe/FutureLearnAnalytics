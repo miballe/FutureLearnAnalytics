{
 "cells": [
  {
   "cell_type": "markdown",
   "metadata": {},
   "source": [
    "# Data Analytics for MOOC Providers\n",
    "\n",
    "#### Created by [Miguel Ballesteros](mailto:mabm1e15@soton.ac.uk)\n",
    "\n",
    "This is the index notebook for the project **Data Analytics for MOOC Providers** which aims to provide insights for the usage data collected by the [MOOC](https://en.wikipedia.org/wiki/Massive_open_online_course) platform [FutureLearn](http://futurelearn.com)."
   ]
  },
  {
   "cell_type": "markdown",
   "metadata": {},
   "source": [
    "### *Notebook list*\n",
    "\n",
    "1. **[Introduction](index.ipynb)**\n",
    "2. [The Downloaded CSV Files](downloaded_data.ipynb)\n",
    "3. [Data Processing Pipeline](data_pipeline.ipynb)\n",
    "4. [Clean Data Exploration](clean_data_exploration.ipynb)\n",
    "5. [Understanding MOOC behaviors](understanding_mooc.ipynb)\n",
    "6. [Predicting Dropouts](predicting_dropouts)\n",
    "7. [Conclusions](conclusions.ipynb)\n",
    "8. [Future Work](future_work.ipynb)"
   ]
  },
  {
   "cell_type": "markdown",
   "metadata": {
    "collapsed": true
   },
   "source": [
    "### *In this notebook...*\n",
    "1. [Introduction](#Introduction)\n",
    "2. [Problem Statement](#Problem-Statement)\n",
    "    0. [Stakeholder's Questions](#Stakeholder's-Questions)\n",
    "    0. [Questions Reformulation](#Questions-Reformulation)\n",
    "3. [This Project](#This-Project)\n"
   ]
  },
  {
   "cell_type": "markdown",
   "metadata": {},
   "source": [
    "## Introduction\n",
    "[<img src=\"Images/futurelearn.png\" alt=\"FutureLearn Website\" width=\"224\" height=\"95\" style=\"float:right\">](http://futurelearn.com)\n",
    "Massive Open Online Courses (MOOCs) nowadays are becoming a popular way to deliver educational content with the goal to learn a particular skill, get a certificate, or even complete a small degree. MOOCs have become a broadly embraced learning option supported by the increased usage of platforms like edX or Coursera, based in the United States. In the UK the most adopted platform by local universities is **[FutureLearn](http://futurelearn.com)**. The University of Southampton has a partnership with the last one and uses it to offer a variety of online courses.\n",
    "\n",
    "Analyzing the collected data opens an opportunity not previously seen in the education before. The existence of datasets containing the students’ behaviors and social interactions during a course delivery is a really rare opportunity seen in real classrooms. For scenarios like MOOCs it helps understanding the learning process that follows each student, identify patterns they follow and optimize the learning process by adapting the course delivery to each student needs.\n"
   ]
  },
  {
   "cell_type": "markdown",
   "metadata": {},
   "source": [
    "## Problem Statement\n",
    "The partnership between the University of Southampton and FutureLearn require some minimum levels of quality for optimal course deliveries through the online platform. With the aim to understand past behaviors and put in place improvement actions, the collected behavior activity data is required to be analized along with course and participant details, in order to provide insights and recommend enhancement or optimization actions.\n",
    "\n",
    "<img src=\"Images/course_rp_screen01.png\" style=\"border-width:1px\">\n",
    "<center>Sample course screenshot</center>\n",
    "\n",
    "### Stakeholder's Questions\n",
    "Specific questions and data requirements vary according to each stakeholder’s profile. However, during few meetings the following stakeholders and requirements were identified.\n",
    "\n",
    "**Instructors:** This role designs the course structure and leads most course delivery activities. Its course feedback relies mostly on the provided simple reports about general course progress along with a participants’ classification according to the highest interaction level reached. There are gaps when attempting to explain the reasons behind most observed behaviors. The following list is a short summary of the question types this rol is interested to get into.\n",
    "\n",
    "* Is there any course material type that is highly effective or innefective?\n",
    "* The week steps length has negative, positive or neutral effect on the participant’s engagement level?\n",
    "* Is there any correlation between the participant’s social interaction and the level of engagement in the course?\n",
    "* How effective are the peer to peer assignments and reviews?\n",
    "* Are there points of massive dropouts? If so, are there factors that can clearly be pointed as the main reasons?\n",
    "\n",
    "**Course Administrators:** This role supports the instructors on how to use the platform for course design and delivery. They also apply the knowledge acquired during previous course runs in the same or different areas. Additionally, this role is the pivot to the University’s financial sponsors whom require to measure the return of investment (from the marketing perspective) of the budget assigned to oneline courses. Just like the instructors, this role has several data needs not covered by the reports provided by the platform. Some of these needs can also be summarized in the following list of questions.\n",
    "\n",
    "* What are the main dropout drivers?\n",
    "* Are the dropout behaviors and rates similar among different courses, or different course runs?\n",
    "* Is it possible to predict the dropout rate one or few weeks in advance?\n",
    "* Some courses have changed the structure among runs. Have this had a positive or negative impact on participants’ behavior?\n",
    "* Are there groups of participants within a course following a common pattern? If so, what are the common factors?\n",
    "\n",
    "For both roles all questions have the same goal in common: to increase participants’ engagement level by providing the right course structure while keeping high quality content.\n",
    "\n",
    "### Questions Reformulation\n",
    "Although previous questions are just a portion of the total list of requirements these roles have, top priorities can be summarized in two main areas.\n",
    "\n",
    "#### Learning Profiles\n",
    "With the aim to understand past behaviors given the interaction of both, participant profiles and course designs, most questions previously described can be generalized in terms of learning profiles. In other words, the idea is to simplify most of these questions in two general questions about courses and participants.\n",
    "\n",
    "* What are the key factors driving positively or negatively the participants learning experience in the online platform? and if identified, describe the ones can be considered as good or bad practices.\n",
    "* What makes a good course design in terms of content variety, length and social interaction?\n",
    "\n",
    "#### Dropout Prediction\n",
    "Dropouts is probably the most important metric to consider in MOOCs. Due to its free nature, the number of interested people is commonly several times higher than the number of people that in the end complete all course activities. The goal in then to minimize such difference by applying relevant actions during the course delivery and this requires to anticipate which participants may leave the course in the coming weeks.\n",
    "\n",
    "* How many participants are likely to leave in the coming one and two weeks?\n",
    "\n"
   ]
  },
  {
   "cell_type": "markdown",
   "metadata": {},
   "source": [
    "## This Project\n",
    "The current project aims to answer previously formulated quesitons using Data Science approaches. Basically the projects follows the data processing pipeline, emphasizing in the understanding and prediction models.\n",
    "\n",
    "Some of the questions are not very specific and therefore the notebooks provide flexibility to use the data by changing parameters or creating its own data structures to transform, filter or calculate the data as required.\n"
   ]
  },
  {
   "cell_type": "markdown",
   "metadata": {},
   "source": [
    "## Next...\n",
    "[The Downloaded CSV Files](downloaded_data.ipynb)"
   ]
  }
 ],
 "metadata": {
  "kernelspec": {
   "display_name": "R",
   "language": "R",
   "name": "ir"
  },
  "language_info": {
   "codemirror_mode": "r",
   "file_extension": ".r",
   "mimetype": "text/x-r-source",
   "name": "R",
   "pygments_lexer": "r",
   "version": "3.2.5"
  }
 },
 "nbformat": 4,
 "nbformat_minor": 0
}
